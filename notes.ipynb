{
 "cells": [
  {
   "cell_type": "markdown",
   "id": "bd69e014-8b7a-4c6a-b4da-588a4715930a",
   "metadata": {},
   "source": [
    "## this is the code for read_file when we implement the data in a dictionary"
   ]
  },
  {
   "cell_type": "code",
   "execution_count": null,
   "id": "4f9210a1-776d-4318-89b4-2a39d8a8d2a7",
   "metadata": {},
   "outputs": [],
   "source": [
    "def read_file(filepath):\n",
    "        \"\"\" Opens and reads the file\n",
    "        \"\"\"\n",
    "        data ={}\n",
    "        with open(filepath, \"r\", encoding= \"utf-8\") as infile:\n",
    "            for line in infile:\n",
    "                information = line.strip.split(\",\")\n",
    "                data[information[0]]=[information[1],\n",
    "                                    information[2],\n",
    "                                    information[3], int(information[4]), \n",
    "                                    information[5], int(information[6]),\n",
    "                                    information[7], int(information[8])]\n",
    "        return data"
   ]
  },
  {
   "cell_type": "code",
   "execution_count": null,
   "id": "184fcb9a-4bc1-4bc4-8455-f1e58da82952",
   "metadata": {},
   "outputs": [],
   "source": []
  }
 ],
 "metadata": {
  "kernelspec": {
   "display_name": "Python 3 (ipykernel)",
   "language": "python",
   "name": "python3"
  },
  "language_info": {
   "codemirror_mode": {
    "name": "ipython",
    "version": 3
   },
   "file_extension": ".py",
   "mimetype": "text/x-python",
   "name": "python",
   "nbconvert_exporter": "python",
   "pygments_lexer": "ipython3",
   "version": "3.12.1"
  }
 },
 "nbformat": 4,
 "nbformat_minor": 5
}
